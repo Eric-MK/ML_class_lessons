{
 "cells": [
  {
   "cell_type": "markdown",
   "metadata": {},
   "source": [
    "#### Dataset for rental houses in nairobi"
   ]
  },
  {
   "cell_type": "code",
   "execution_count": 2,
   "metadata": {},
   "outputs": [],
   "source": [
    "import pandas as pd  "
   ]
  },
  {
   "cell_type": "code",
   "execution_count": 3,
   "metadata": {},
   "outputs": [
    {
     "data": {
      "text/html": [
       "<div>\n",
       "<style scoped>\n",
       "    .dataframe tbody tr th:only-of-type {\n",
       "        vertical-align: middle;\n",
       "    }\n",
       "\n",
       "    .dataframe tbody tr th {\n",
       "        vertical-align: top;\n",
       "    }\n",
       "\n",
       "    .dataframe thead th {\n",
       "        text-align: right;\n",
       "    }\n",
       "</style>\n",
       "<table border=\"1\" class=\"dataframe\">\n",
       "  <thead>\n",
       "    <tr style=\"text-align: right;\">\n",
       "      <th></th>\n",
       "      <th>Unnamed: 0</th>\n",
       "      <th>title</th>\n",
       "      <th>location</th>\n",
       "      <th>bedrooms</th>\n",
       "      <th>bathrooms</th>\n",
       "      <th>price</th>\n",
       "      <th>rate</th>\n",
       "    </tr>\n",
       "  </thead>\n",
       "  <tbody>\n",
       "    <tr>\n",
       "      <th>0</th>\n",
       "      <td>0</td>\n",
       "      <td>3 Bedroom Apartment / Flat to rent in Riverside</td>\n",
       "      <td>Riverside Dr Nairobi, Riverside, Nairobi</td>\n",
       "      <td>3</td>\n",
       "      <td>3</td>\n",
       "      <td>200 000</td>\n",
       "      <td>Per Month</td>\n",
       "    </tr>\n",
       "    <tr>\n",
       "      <th>1</th>\n",
       "      <td>1</td>\n",
       "      <td>3 Bedroom Apartment / Flat to rent in Kileleshwa</td>\n",
       "      <td>Kileleshwa, Nairobi</td>\n",
       "      <td>3</td>\n",
       "      <td>4</td>\n",
       "      <td>70 000</td>\n",
       "      <td>Per Month</td>\n",
       "    </tr>\n",
       "    <tr>\n",
       "      <th>2</th>\n",
       "      <td>2</td>\n",
       "      <td>3 Bedroom Apartment / Flat to rent in Nyali</td>\n",
       "      <td>Links Rd Mombasa, Nyali, Mombasa</td>\n",
       "      <td>3</td>\n",
       "      <td>2</td>\n",
       "      <td>38 000</td>\n",
       "      <td>Per Month</td>\n",
       "    </tr>\n",
       "    <tr>\n",
       "      <th>3</th>\n",
       "      <td>3</td>\n",
       "      <td>3 Bedroom Apartment / Flat to rent in Lavington</td>\n",
       "      <td>Near Valley Arcade, Lavington, Nairobi</td>\n",
       "      <td>3</td>\n",
       "      <td>3</td>\n",
       "      <td>80 000</td>\n",
       "      <td>Per Month</td>\n",
       "    </tr>\n",
       "    <tr>\n",
       "      <th>4</th>\n",
       "      <td>4</td>\n",
       "      <td>1 Bedroom Apartment / Flat to rent in Kileleshwa</td>\n",
       "      <td>Kileleshwa, Nairobi</td>\n",
       "      <td>1</td>\n",
       "      <td>1</td>\n",
       "      <td>110 000</td>\n",
       "      <td>Per Month</td>\n",
       "    </tr>\n",
       "  </tbody>\n",
       "</table>\n",
       "</div>"
      ],
      "text/plain": [
       "   Unnamed: 0                                             title  \\\n",
       "0           0   3 Bedroom Apartment / Flat to rent in Riverside   \n",
       "1           1  3 Bedroom Apartment / Flat to rent in Kileleshwa   \n",
       "2           2       3 Bedroom Apartment / Flat to rent in Nyali   \n",
       "3           3   3 Bedroom Apartment / Flat to rent in Lavington   \n",
       "4           4  1 Bedroom Apartment / Flat to rent in Kileleshwa   \n",
       "\n",
       "                                   location  bedrooms  bathrooms     price  \\\n",
       "0  Riverside Dr Nairobi, Riverside, Nairobi         3          3   200 000   \n",
       "1                       Kileleshwa, Nairobi         3          4    70 000   \n",
       "2          Links Rd Mombasa, Nyali, Mombasa         3          2    38 000   \n",
       "3    Near Valley Arcade, Lavington, Nairobi         3          3    80 000   \n",
       "4                       Kileleshwa, Nairobi         1          1   110 000   \n",
       "\n",
       "        rate  \n",
       "0  Per Month  \n",
       "1  Per Month  \n",
       "2  Per Month  \n",
       "3  Per Month  \n",
       "4  Per Month  "
      ]
     },
     "execution_count": 3,
     "metadata": {},
     "output_type": "execute_result"
    }
   ],
   "source": [
    "file_path = \"data/apartments.csv\"\n",
    "\n",
    "df = pd.read_csv(file_path)\n",
    "\n",
    "df.head()"
   ]
  },
  {
   "cell_type": "markdown",
   "metadata": {},
   "source": [
    "#### Data preprocessing"
   ]
  },
  {
   "cell_type": "markdown",
   "metadata": {},
   "source": [
    "###### drop first coloumn"
   ]
  },
  {
   "cell_type": "code",
   "execution_count": 4,
   "metadata": {},
   "outputs": [
    {
     "data": {
      "text/html": [
       "<div>\n",
       "<style scoped>\n",
       "    .dataframe tbody tr th:only-of-type {\n",
       "        vertical-align: middle;\n",
       "    }\n",
       "\n",
       "    .dataframe tbody tr th {\n",
       "        vertical-align: top;\n",
       "    }\n",
       "\n",
       "    .dataframe thead th {\n",
       "        text-align: right;\n",
       "    }\n",
       "</style>\n",
       "<table border=\"1\" class=\"dataframe\">\n",
       "  <thead>\n",
       "    <tr style=\"text-align: right;\">\n",
       "      <th></th>\n",
       "      <th>title</th>\n",
       "      <th>location</th>\n",
       "      <th>bedrooms</th>\n",
       "      <th>bathrooms</th>\n",
       "      <th>price</th>\n",
       "      <th>rate</th>\n",
       "    </tr>\n",
       "  </thead>\n",
       "  <tbody>\n",
       "    <tr>\n",
       "      <th>0</th>\n",
       "      <td>3 Bedroom Apartment / Flat to rent in Riverside</td>\n",
       "      <td>Riverside Dr Nairobi, Riverside, Nairobi</td>\n",
       "      <td>3</td>\n",
       "      <td>3</td>\n",
       "      <td>200 000</td>\n",
       "      <td>Per Month</td>\n",
       "    </tr>\n",
       "    <tr>\n",
       "      <th>1</th>\n",
       "      <td>3 Bedroom Apartment / Flat to rent in Kileleshwa</td>\n",
       "      <td>Kileleshwa, Nairobi</td>\n",
       "      <td>3</td>\n",
       "      <td>4</td>\n",
       "      <td>70 000</td>\n",
       "      <td>Per Month</td>\n",
       "    </tr>\n",
       "    <tr>\n",
       "      <th>2</th>\n",
       "      <td>3 Bedroom Apartment / Flat to rent in Nyali</td>\n",
       "      <td>Links Rd Mombasa, Nyali, Mombasa</td>\n",
       "      <td>3</td>\n",
       "      <td>2</td>\n",
       "      <td>38 000</td>\n",
       "      <td>Per Month</td>\n",
       "    </tr>\n",
       "    <tr>\n",
       "      <th>3</th>\n",
       "      <td>3 Bedroom Apartment / Flat to rent in Lavington</td>\n",
       "      <td>Near Valley Arcade, Lavington, Nairobi</td>\n",
       "      <td>3</td>\n",
       "      <td>3</td>\n",
       "      <td>80 000</td>\n",
       "      <td>Per Month</td>\n",
       "    </tr>\n",
       "    <tr>\n",
       "      <th>4</th>\n",
       "      <td>1 Bedroom Apartment / Flat to rent in Kileleshwa</td>\n",
       "      <td>Kileleshwa, Nairobi</td>\n",
       "      <td>1</td>\n",
       "      <td>1</td>\n",
       "      <td>110 000</td>\n",
       "      <td>Per Month</td>\n",
       "    </tr>\n",
       "  </tbody>\n",
       "</table>\n",
       "</div>"
      ],
      "text/plain": [
       "                                              title  \\\n",
       "0   3 Bedroom Apartment / Flat to rent in Riverside   \n",
       "1  3 Bedroom Apartment / Flat to rent in Kileleshwa   \n",
       "2       3 Bedroom Apartment / Flat to rent in Nyali   \n",
       "3   3 Bedroom Apartment / Flat to rent in Lavington   \n",
       "4  1 Bedroom Apartment / Flat to rent in Kileleshwa   \n",
       "\n",
       "                                   location  bedrooms  bathrooms     price  \\\n",
       "0  Riverside Dr Nairobi, Riverside, Nairobi         3          3   200 000   \n",
       "1                       Kileleshwa, Nairobi         3          4    70 000   \n",
       "2          Links Rd Mombasa, Nyali, Mombasa         3          2    38 000   \n",
       "3    Near Valley Arcade, Lavington, Nairobi         3          3    80 000   \n",
       "4                       Kileleshwa, Nairobi         1          1   110 000   \n",
       "\n",
       "        rate  \n",
       "0  Per Month  \n",
       "1  Per Month  \n",
       "2  Per Month  \n",
       "3  Per Month  \n",
       "4  Per Month  "
      ]
     },
     "execution_count": 4,
     "metadata": {},
     "output_type": "execute_result"
    }
   ],
   "source": [
    "df = df.drop(df.columns[0], axis=1)\n",
    "\n",
    "df.head()"
   ]
  },
  {
   "cell_type": "code",
   "execution_count": 5,
   "metadata": {},
   "outputs": [
    {
     "name": "stdout",
     "output_type": "stream",
     "text": [
      "<class 'pandas.core.frame.DataFrame'>\n",
      "RangeIndex: 2520 entries, 0 to 2519\n",
      "Data columns (total 6 columns):\n",
      " #   Column     Non-Null Count  Dtype \n",
      "---  ------     --------------  ----- \n",
      " 0   title      2520 non-null   object\n",
      " 1   location   2144 non-null   object\n",
      " 2   bedrooms   2520 non-null   int64 \n",
      " 3   bathrooms  2520 non-null   int64 \n",
      " 4   price      2520 non-null   object\n",
      " 5   rate       2520 non-null   object\n",
      "dtypes: int64(2), object(4)\n",
      "memory usage: 118.3+ KB\n"
     ]
    }
   ],
   "source": [
    "df.info()"
   ]
  },
  {
   "cell_type": "markdown",
   "metadata": {},
   "source": [
    "###### drop rate coloumn"
   ]
  },
  {
   "cell_type": "code",
   "execution_count": 6,
   "metadata": {},
   "outputs": [
    {
     "data": {
      "text/html": [
       "<div>\n",
       "<style scoped>\n",
       "    .dataframe tbody tr th:only-of-type {\n",
       "        vertical-align: middle;\n",
       "    }\n",
       "\n",
       "    .dataframe tbody tr th {\n",
       "        vertical-align: top;\n",
       "    }\n",
       "\n",
       "    .dataframe thead th {\n",
       "        text-align: right;\n",
       "    }\n",
       "</style>\n",
       "<table border=\"1\" class=\"dataframe\">\n",
       "  <thead>\n",
       "    <tr style=\"text-align: right;\">\n",
       "      <th></th>\n",
       "      <th>title</th>\n",
       "      <th>location</th>\n",
       "      <th>bedrooms</th>\n",
       "      <th>bathrooms</th>\n",
       "      <th>price</th>\n",
       "    </tr>\n",
       "  </thead>\n",
       "  <tbody>\n",
       "    <tr>\n",
       "      <th>0</th>\n",
       "      <td>3 Bedroom Apartment / Flat to rent in Riverside</td>\n",
       "      <td>Riverside Dr Nairobi, Riverside, Nairobi</td>\n",
       "      <td>3</td>\n",
       "      <td>3</td>\n",
       "      <td>200 000</td>\n",
       "    </tr>\n",
       "    <tr>\n",
       "      <th>1</th>\n",
       "      <td>3 Bedroom Apartment / Flat to rent in Kileleshwa</td>\n",
       "      <td>Kileleshwa, Nairobi</td>\n",
       "      <td>3</td>\n",
       "      <td>4</td>\n",
       "      <td>70 000</td>\n",
       "    </tr>\n",
       "    <tr>\n",
       "      <th>2</th>\n",
       "      <td>3 Bedroom Apartment / Flat to rent in Nyali</td>\n",
       "      <td>Links Rd Mombasa, Nyali, Mombasa</td>\n",
       "      <td>3</td>\n",
       "      <td>2</td>\n",
       "      <td>38 000</td>\n",
       "    </tr>\n",
       "    <tr>\n",
       "      <th>3</th>\n",
       "      <td>3 Bedroom Apartment / Flat to rent in Lavington</td>\n",
       "      <td>Near Valley Arcade, Lavington, Nairobi</td>\n",
       "      <td>3</td>\n",
       "      <td>3</td>\n",
       "      <td>80 000</td>\n",
       "    </tr>\n",
       "    <tr>\n",
       "      <th>4</th>\n",
       "      <td>1 Bedroom Apartment / Flat to rent in Kileleshwa</td>\n",
       "      <td>Kileleshwa, Nairobi</td>\n",
       "      <td>1</td>\n",
       "      <td>1</td>\n",
       "      <td>110 000</td>\n",
       "    </tr>\n",
       "  </tbody>\n",
       "</table>\n",
       "</div>"
      ],
      "text/plain": [
       "                                              title  \\\n",
       "0   3 Bedroom Apartment / Flat to rent in Riverside   \n",
       "1  3 Bedroom Apartment / Flat to rent in Kileleshwa   \n",
       "2       3 Bedroom Apartment / Flat to rent in Nyali   \n",
       "3   3 Bedroom Apartment / Flat to rent in Lavington   \n",
       "4  1 Bedroom Apartment / Flat to rent in Kileleshwa   \n",
       "\n",
       "                                   location  bedrooms  bathrooms     price  \n",
       "0  Riverside Dr Nairobi, Riverside, Nairobi         3          3   200 000  \n",
       "1                       Kileleshwa, Nairobi         3          4    70 000  \n",
       "2          Links Rd Mombasa, Nyali, Mombasa         3          2    38 000  \n",
       "3    Near Valley Arcade, Lavington, Nairobi         3          3    80 000  \n",
       "4                       Kileleshwa, Nairobi         1          1   110 000  "
      ]
     },
     "execution_count": 6,
     "metadata": {},
     "output_type": "execute_result"
    }
   ],
   "source": [
    "df = df.drop('rate', axis=1)\n",
    "\n",
    "df.head()"
   ]
  },
  {
   "cell_type": "code",
   "execution_count": 7,
   "metadata": {},
   "outputs": [
    {
     "name": "stdout",
     "output_type": "stream",
     "text": [
      "<class 'pandas.core.frame.DataFrame'>\n",
      "RangeIndex: 2520 entries, 0 to 2519\n",
      "Data columns (total 5 columns):\n",
      " #   Column     Non-Null Count  Dtype \n",
      "---  ------     --------------  ----- \n",
      " 0   title      2520 non-null   object\n",
      " 1   location   2144 non-null   object\n",
      " 2   bedrooms   2520 non-null   int64 \n",
      " 3   bathrooms  2520 non-null   int64 \n",
      " 4   price      2520 non-null   object\n",
      "dtypes: int64(2), object(3)\n",
      "memory usage: 98.6+ KB\n"
     ]
    }
   ],
   "source": [
    "df.info()"
   ]
  },
  {
   "cell_type": "markdown",
   "metadata": {},
   "source": [
    "###### check for null values"
   ]
  },
  {
   "cell_type": "code",
   "execution_count": 9,
   "metadata": {},
   "outputs": [
    {
     "data": {
      "text/plain": [
       "title          0\n",
       "location     376\n",
       "bedrooms       0\n",
       "bathrooms      0\n",
       "price          0\n",
       "dtype: int64"
      ]
     },
     "execution_count": 9,
     "metadata": {},
     "output_type": "execute_result"
    }
   ],
   "source": [
    "df.isnull().sum()"
   ]
  },
  {
   "cell_type": "code",
   "execution_count": 10,
   "metadata": {},
   "outputs": [
    {
     "name": "stdout",
     "output_type": "stream",
     "text": [
      "                                                 title location  bedrooms  \\\n",
      "7      3 Bedroom Apartment / Flat to rent in Westlands      NaN         3   \n",
      "15    2 Bedroom Apartment / Flat to rent in Hurlingham      NaN         2   \n",
      "18         3 Bedroom Apartment / Flat to rent in Nyali      NaN         3   \n",
      "29     3 Bedroom Apartment / Flat to rent in Westlands      NaN         3   \n",
      "36    2 Bedroom Apartment / Flat to rent in Hurlingham      NaN         2   \n",
      "...                                                ...      ...       ...   \n",
      "2493  2 Bedroom Apartment / Flat to rent in Hurlingham      NaN         2   \n",
      "2496       3 Bedroom Apartment / Flat to rent in Nyali      NaN         3   \n",
      "2506   3 Bedroom Apartment / Flat to rent in Westlands      NaN         3   \n",
      "2513  2 Bedroom Apartment / Flat to rent in Hurlingham      NaN         2   \n",
      "2516       3 Bedroom Apartment / Flat to rent in Nyali      NaN         3   \n",
      "\n",
      "      bathrooms    price  \n",
      "7             3   78 000  \n",
      "15            2   75 000  \n",
      "18            2   45 000  \n",
      "29            3   78 000  \n",
      "36            2   75 000  \n",
      "...         ...      ...  \n",
      "2493          2   75 000  \n",
      "2496          2   45 000  \n",
      "2506          3   78 000  \n",
      "2513          2   75 000  \n",
      "2516          2   45 000  \n",
      "\n",
      "[376 rows x 5 columns]\n"
     ]
    }
   ],
   "source": [
    "# Find rows with any null values\n",
    "null_rows = df[df.isnull().any(axis=1)]\n",
    "\n",
    "print(null_rows)"
   ]
  }
 ],
 "metadata": {
  "kernelspec": {
   "display_name": "notebook_env",
   "language": "python",
   "name": "python3"
  },
  "language_info": {
   "codemirror_mode": {
    "name": "ipython",
    "version": 3
   },
   "file_extension": ".py",
   "mimetype": "text/x-python",
   "name": "python",
   "nbconvert_exporter": "python",
   "pygments_lexer": "ipython3",
   "version": "3.11.5"
  }
 },
 "nbformat": 4,
 "nbformat_minor": 2
}
